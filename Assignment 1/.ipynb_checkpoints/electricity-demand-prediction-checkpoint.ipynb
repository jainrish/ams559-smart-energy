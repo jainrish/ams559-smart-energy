{
 "cells": [
  {
   "cell_type": "code",
   "execution_count": 179,
   "metadata": {},
   "outputs": [
    {
     "name": "stdout",
     "output_type": "stream",
     "text": [
      "['.DS_Store', 'input', 'Assignment-1.pdf', '.ipynb_checkpoints', 'electricity-demand-prediction.ipynb']\n"
     ]
    }
   ],
   "source": [
    "import numpy as np \n",
    "import pandas as pd \n",
    "\n",
    "import json\n",
    "import time\n",
    "from pandas.io.json import json_normalize\n",
    "import seaborn as sns\n",
    "import matplotlib.pyplot as plt\n",
    "import lightgbm as lgb\n",
    "from sklearn.metrics import explained_variance_score, roc_auc_score, precision_recall_curve, roc_curve, average_precision_score,accuracy_score\n",
    "from sklearn import model_selection, preprocessing, metrics\n",
    "from sklearn.model_selection import TimeSeriesSplit, GridSearchCV, cross_val_score, cross_validate\n",
    "from scipy import stats\n",
    "from sklearn.model_selection import train_test_split\n",
    "from sklearn.metrics import mean_squared_error, r2_score\n",
    "from sklearn.linear_model import LinearRegression\n",
    "\n",
    "#from mpl_toolkits.basemap import Basemap\n",
    "\n",
    "import gc\n",
    "import os\n",
    "print(os.listdir(\".\"))"
   ]
  },
  {
   "cell_type": "code",
   "execution_count": 180,
   "metadata": {},
   "outputs": [],
   "source": [
    "in_file_name = \"Home1_yr1.csv\"\n",
    "out_file_name = \"home1_out.csv\""
   ]
  },
  {
   "cell_type": "code",
   "execution_count": 181,
   "metadata": {},
   "outputs": [
    {
     "data": {
      "text/plain": [
       "(35040, 1)"
      ]
     },
     "execution_count": 181,
     "metadata": {},
     "output_type": "execute_result"
    }
   ],
   "source": [
    "column_names = ['load_demand']\n",
    "house_data = pd.read_csv(\"./input/\" + in_file_name, low_memory=False, nrows=None, names=column_names)\n",
    "house_data.shape"
   ]
  },
  {
   "cell_type": "code",
   "execution_count": 182,
   "metadata": {},
   "outputs": [
    {
     "name": "stdout",
     "output_type": "stream",
     "text": [
      "<class 'pandas.core.frame.DataFrame'>\n",
      "RangeIndex: 35040 entries, 0 to 35039\n",
      "Data columns (total 1 columns):\n",
      "load_demand    35040 non-null float64\n",
      "dtypes: float64(1)\n",
      "memory usage: 273.8 KB\n"
     ]
    }
   ],
   "source": [
    "house_data.info()"
   ]
  },
  {
   "cell_type": "code",
   "execution_count": 183,
   "metadata": {},
   "outputs": [
    {
     "data": {
      "text/html": [
       "<div>\n",
       "<style scoped>\n",
       "    .dataframe tbody tr th:only-of-type {\n",
       "        vertical-align: middle;\n",
       "    }\n",
       "\n",
       "    .dataframe tbody tr th {\n",
       "        vertical-align: top;\n",
       "    }\n",
       "\n",
       "    .dataframe thead th {\n",
       "        text-align: right;\n",
       "    }\n",
       "</style>\n",
       "<table border=\"1\" class=\"dataframe\">\n",
       "  <thead>\n",
       "    <tr style=\"text-align: right;\">\n",
       "      <th></th>\n",
       "      <th>load_demand</th>\n",
       "    </tr>\n",
       "  </thead>\n",
       "  <tbody>\n",
       "    <tr>\n",
       "      <th>count</th>\n",
       "      <td>35040.000000</td>\n",
       "    </tr>\n",
       "    <tr>\n",
       "      <th>mean</th>\n",
       "      <td>1.327208</td>\n",
       "    </tr>\n",
       "    <tr>\n",
       "      <th>std</th>\n",
       "      <td>1.399019</td>\n",
       "    </tr>\n",
       "    <tr>\n",
       "      <th>min</th>\n",
       "      <td>0.015124</td>\n",
       "    </tr>\n",
       "    <tr>\n",
       "      <th>25%</th>\n",
       "      <td>0.315678</td>\n",
       "    </tr>\n",
       "    <tr>\n",
       "      <th>50%</th>\n",
       "      <td>0.722875</td>\n",
       "    </tr>\n",
       "    <tr>\n",
       "      <th>75%</th>\n",
       "      <td>1.988425</td>\n",
       "    </tr>\n",
       "    <tr>\n",
       "      <th>max</th>\n",
       "      <td>15.500000</td>\n",
       "    </tr>\n",
       "  </tbody>\n",
       "</table>\n",
       "</div>"
      ],
      "text/plain": [
       "        load_demand\n",
       "count  35040.000000\n",
       "mean       1.327208\n",
       "std        1.399019\n",
       "min        0.015124\n",
       "25%        0.315678\n",
       "50%        0.722875\n",
       "75%        1.988425\n",
       "max       15.500000"
      ]
     },
     "execution_count": 183,
     "metadata": {},
     "output_type": "execute_result"
    }
   ],
   "source": [
    "house_data.describe()"
   ]
  },
  {
   "cell_type": "code",
   "execution_count": 184,
   "metadata": {},
   "outputs": [],
   "source": [
    "\n",
    "epochTime = 1417392000\n",
    "\n",
    "def get_time_stamp(row):\n",
    "    global epochTime\n",
    "    epochTime+=900\n",
    "    return pd.to_datetime(epochTime,unit='s')\n",
    "\n",
    "house_data['time_stamp'] = house_data.apply (lambda row: get_time_stamp(row),axis=1)\n"
   ]
  },
  {
   "cell_type": "code",
   "execution_count": 185,
   "metadata": {},
   "outputs": [
    {
     "data": {
      "text/html": [
       "<div>\n",
       "<style scoped>\n",
       "    .dataframe tbody tr th:only-of-type {\n",
       "        vertical-align: middle;\n",
       "    }\n",
       "\n",
       "    .dataframe tbody tr th {\n",
       "        vertical-align: top;\n",
       "    }\n",
       "\n",
       "    .dataframe thead th {\n",
       "        text-align: right;\n",
       "    }\n",
       "</style>\n",
       "<table border=\"1\" class=\"dataframe\">\n",
       "  <thead>\n",
       "    <tr style=\"text-align: right;\">\n",
       "      <th></th>\n",
       "      <th>load_demand</th>\n",
       "      <th>time_stamp</th>\n",
       "    </tr>\n",
       "  </thead>\n",
       "  <tbody>\n",
       "    <tr>\n",
       "      <th>0</th>\n",
       "      <td>0.65018</td>\n",
       "      <td>2014-12-01 00:15:00</td>\n",
       "    </tr>\n",
       "    <tr>\n",
       "      <th>1</th>\n",
       "      <td>1.45400</td>\n",
       "      <td>2014-12-01 00:30:00</td>\n",
       "    </tr>\n",
       "    <tr>\n",
       "      <th>2</th>\n",
       "      <td>0.72971</td>\n",
       "      <td>2014-12-01 00:45:00</td>\n",
       "    </tr>\n",
       "    <tr>\n",
       "      <th>3</th>\n",
       "      <td>3.10750</td>\n",
       "      <td>2014-12-01 01:00:00</td>\n",
       "    </tr>\n",
       "    <tr>\n",
       "      <th>4</th>\n",
       "      <td>0.63572</td>\n",
       "      <td>2014-12-01 01:15:00</td>\n",
       "    </tr>\n",
       "    <tr>\n",
       "      <th>5</th>\n",
       "      <td>0.69720</td>\n",
       "      <td>2014-12-01 01:30:00</td>\n",
       "    </tr>\n",
       "    <tr>\n",
       "      <th>6</th>\n",
       "      <td>1.50610</td>\n",
       "      <td>2014-12-01 01:45:00</td>\n",
       "    </tr>\n",
       "    <tr>\n",
       "      <th>7</th>\n",
       "      <td>0.85858</td>\n",
       "      <td>2014-12-01 02:00:00</td>\n",
       "    </tr>\n",
       "    <tr>\n",
       "      <th>8</th>\n",
       "      <td>1.61320</td>\n",
       "      <td>2014-12-01 02:15:00</td>\n",
       "    </tr>\n",
       "    <tr>\n",
       "      <th>9</th>\n",
       "      <td>0.66075</td>\n",
       "      <td>2014-12-01 02:30:00</td>\n",
       "    </tr>\n",
       "  </tbody>\n",
       "</table>\n",
       "</div>"
      ],
      "text/plain": [
       "   load_demand          time_stamp\n",
       "0      0.65018 2014-12-01 00:15:00\n",
       "1      1.45400 2014-12-01 00:30:00\n",
       "2      0.72971 2014-12-01 00:45:00\n",
       "3      3.10750 2014-12-01 01:00:00\n",
       "4      0.63572 2014-12-01 01:15:00\n",
       "5      0.69720 2014-12-01 01:30:00\n",
       "6      1.50610 2014-12-01 01:45:00\n",
       "7      0.85858 2014-12-01 02:00:00\n",
       "8      1.61320 2014-12-01 02:15:00\n",
       "9      0.66075 2014-12-01 02:30:00"
      ]
     },
     "execution_count": 185,
     "metadata": {},
     "output_type": "execute_result"
    }
   ],
   "source": [
    "house_data.head(10)"
   ]
  },
  {
   "cell_type": "code",
   "execution_count": 186,
   "metadata": {},
   "outputs": [
    {
     "data": {
      "text/plain": [
       "<matplotlib.axes._subplots.AxesSubplot at 0x1a2ba03278>"
      ]
     },
     "execution_count": 186,
     "metadata": {},
     "output_type": "execute_result"
    },
    {
     "data": {
      "image/png": "[encoded data removed]",
      "text/plain": [
       "<Figure size 432x288 with 1 Axes>"
      ]
     },
     "metadata": {},
     "output_type": "display_data"
    }
   ],
   "source": [
    "house_data.plot('time_stamp', 'load_demand', style=\".\")"
   ]
  },
  {
   "cell_type": "code",
   "execution_count": 187,
   "metadata": {},
   "outputs": [
    {
     "data": {
      "text/plain": [
       "<matplotlib.axes._subplots.AxesSubplot at 0x1a2b6b7fd0>"
      ]
     },
     "execution_count": 187,
     "metadata": {},
     "output_type": "execute_result"
    },
    {
     "data": {
      "image/png": "[encoded data removed]",
      "text/plain": [
       "<Figure size 432x288 with 1 Axes>"
      ]
     },
     "metadata": {},
     "output_type": "display_data"
    }
   ],
   "source": [
    "q = house_data[\"load_demand\"].quantile(0.9999)\n",
    "house_data = house_data[house_data[\"load_demand\"] < q]\n",
    "house_data.plot('time_stamp', 'load_demand', style=\".\")"
   ]
  },
  {
   "cell_type": "code",
   "execution_count": 188,
   "metadata": {},
   "outputs": [
    {
     "data": {
      "text/html": [
       "<div>\n",
       "<style scoped>\n",
       "    .dataframe tbody tr th:only-of-type {\n",
       "        vertical-align: middle;\n",
       "    }\n",
       "\n",
       "    .dataframe tbody tr th {\n",
       "        vertical-align: top;\n",
       "    }\n",
       "\n",
       "    .dataframe thead th {\n",
       "        text-align: right;\n",
       "    }\n",
       "</style>\n",
       "<table border=\"1\" class=\"dataframe\">\n",
       "  <thead>\n",
       "    <tr style=\"text-align: right;\">\n",
       "      <th></th>\n",
       "      <th>load_demand</th>\n",
       "      <th>time_of_day</th>\n",
       "      <th>day_of_week</th>\n",
       "      <th>holiday</th>\n",
       "      <th>month_of_year</th>\n",
       "      <th>slot</th>\n",
       "    </tr>\n",
       "  </thead>\n",
       "  <tbody>\n",
       "    <tr>\n",
       "      <th>0</th>\n",
       "      <td>0.65018</td>\n",
       "      <td>0</td>\n",
       "      <td>0</td>\n",
       "      <td>0</td>\n",
       "      <td>12</td>\n",
       "      <td>1</td>\n",
       "    </tr>\n",
       "    <tr>\n",
       "      <th>1</th>\n",
       "      <td>1.45400</td>\n",
       "      <td>0</td>\n",
       "      <td>0</td>\n",
       "      <td>0</td>\n",
       "      <td>12</td>\n",
       "      <td>2</td>\n",
       "    </tr>\n",
       "    <tr>\n",
       "      <th>2</th>\n",
       "      <td>0.72971</td>\n",
       "      <td>0</td>\n",
       "      <td>0</td>\n",
       "      <td>0</td>\n",
       "      <td>12</td>\n",
       "      <td>3</td>\n",
       "    </tr>\n",
       "    <tr>\n",
       "      <th>3</th>\n",
       "      <td>3.10750</td>\n",
       "      <td>1</td>\n",
       "      <td>0</td>\n",
       "      <td>0</td>\n",
       "      <td>12</td>\n",
       "      <td>4</td>\n",
       "    </tr>\n",
       "    <tr>\n",
       "      <th>4</th>\n",
       "      <td>0.63572</td>\n",
       "      <td>1</td>\n",
       "      <td>0</td>\n",
       "      <td>0</td>\n",
       "      <td>12</td>\n",
       "      <td>5</td>\n",
       "    </tr>\n",
       "    <tr>\n",
       "      <th>5</th>\n",
       "      <td>0.69720</td>\n",
       "      <td>1</td>\n",
       "      <td>0</td>\n",
       "      <td>0</td>\n",
       "      <td>12</td>\n",
       "      <td>6</td>\n",
       "    </tr>\n",
       "    <tr>\n",
       "      <th>6</th>\n",
       "      <td>1.50610</td>\n",
       "      <td>1</td>\n",
       "      <td>0</td>\n",
       "      <td>0</td>\n",
       "      <td>12</td>\n",
       "      <td>7</td>\n",
       "    </tr>\n",
       "    <tr>\n",
       "      <th>7</th>\n",
       "      <td>0.85858</td>\n",
       "      <td>2</td>\n",
       "      <td>0</td>\n",
       "      <td>0</td>\n",
       "      <td>12</td>\n",
       "      <td>8</td>\n",
       "    </tr>\n",
       "    <tr>\n",
       "      <th>8</th>\n",
       "      <td>1.61320</td>\n",
       "      <td>2</td>\n",
       "      <td>0</td>\n",
       "      <td>0</td>\n",
       "      <td>12</td>\n",
       "      <td>9</td>\n",
       "    </tr>\n",
       "    <tr>\n",
       "      <th>9</th>\n",
       "      <td>0.66075</td>\n",
       "      <td>2</td>\n",
       "      <td>0</td>\n",
       "      <td>0</td>\n",
       "      <td>12</td>\n",
       "      <td>10</td>\n",
       "    </tr>\n",
       "  </tbody>\n",
       "</table>\n",
       "</div>"
      ],
      "text/plain": [
       "   load_demand  time_of_day  day_of_week  holiday  month_of_year  slot\n",
       "0      0.65018            0            0        0             12     1\n",
       "1      1.45400            0            0        0             12     2\n",
       "2      0.72971            0            0        0             12     3\n",
       "3      3.10750            1            0        0             12     4\n",
       "4      0.63572            1            0        0             12     5\n",
       "5      0.69720            1            0        0             12     6\n",
       "6      1.50610            1            0        0             12     7\n",
       "7      0.85858            2            0        0             12     8\n",
       "8      1.61320            2            0        0             12     9\n",
       "9      0.66075            2            0        0             12    10"
      ]
     },
     "execution_count": 188,
     "metadata": {},
     "output_type": "execute_result"
    }
   ],
   "source": [
    "import datetime\n",
    "from pandas.tseries.holiday import USFederalHolidayCalendar\n",
    "cal = USFederalHolidayCalendar()\n",
    "holidays = cal.holidays(start='2014-12-01', end='2015-11-30').to_pydatetime()\n",
    "\n",
    "#get hour:minute format\n",
    "def hour_minute(row_data):\n",
    "    return (row_data.time_stamp.hour) #* 100 + (row_data.pickup_datetime.minute)\n",
    "\n",
    "#get day_of_week format\n",
    "def day_of_week(row_data):\n",
    "    return (row_data.time_stamp.weekday())\n",
    "\n",
    "def check_holiday(row_data):\n",
    "    strip_date = datetime.datetime.strptime((str(row_data.time_stamp)[:10] ),'%Y-%m-%d')\n",
    "    return 1 if strip_date in holidays else 0\n",
    "\n",
    "#get month format\n",
    "def get_month(row_data):\n",
    "    return (row_data.time_stamp.month)\n",
    "\n",
    "house_data['time_of_day'] = house_data.apply(lambda row: hour_minute(row), axis=1)\n",
    "house_data['day_of_week'] = house_data.apply(lambda row: day_of_week(row), axis=1)\n",
    "house_data['holiday'] = house_data.apply(lambda row: check_holiday(row), axis=1)\n",
    "house_data['month_of_year'] = house_data.apply(lambda row: get_month(row), axis=1)\n",
    "house_data['slot'] = np.array([i for i in range(1,len(house_data)+1)]).reshape(-1, 1)\n",
    "del house_data['time_stamp']\n",
    "\n",
    "house_data.head(10)"
   ]
  },
  {
   "cell_type": "code",
   "execution_count": 189,
   "metadata": {},
   "outputs": [],
   "source": [
    "#get day_of_week format\n",
    "\n",
    "#house_data.time_stamp[0].month"
   ]
  },
  {
   "cell_type": "code",
   "execution_count": 190,
   "metadata": {},
   "outputs": [
    {
     "name": "stdout",
     "output_type": "stream",
     "text": [
      "Mean Absolute Error : 0.51693\n"
     ]
    }
   ],
   "source": [
    "#Naive model\n",
    "\n",
    "def Naive_Model(X):\n",
    "    return X[-96:]\n",
    "\n",
    "def Mean_Absolute_Error(x, y):\n",
    "    return sum([abs(x[i] - y[i]) for i in range(len(y))])/(len(y) * 1.0)\n",
    "\n",
    "day_value = 300\n",
    "interval_count = day_value * 96\n",
    "column = house_data.columns[0]\n",
    "#print(house_data[column].values)\n",
    "X_train = house_data[column].values[:interval_count]\n",
    "X_test = house_data[column].values[interval_count:interval_count+96]\n",
    "y = Naive_Model(X_train)\n",
    "#print(X_test, y)\n",
    "print(\"Mean Absolute Error : %.5f\" % Mean_Absolute_Error(X_test, y))"
   ]
  },
  {
   "cell_type": "code",
   "execution_count": 191,
   "metadata": {},
   "outputs": [
    {
     "name": "stdout",
     "output_type": "stream",
     "text": [
      "Coefficients (a,b,c,..) :  [('load_demand', -8.7285684033932309e-05)]\n",
      "Mean squared error: 1.19700\n",
      "Variance : -0.38882\n",
      "Mean Absolute Error : 0.58296\n"
     ]
    }
   ],
   "source": [
    "#Linear Regression without additional features\n",
    "linear_regression = LinearRegression()\n",
    "final_columns = house_data.columns\n",
    "\n",
    "linear_reg_train_X = np.array([i for i in range(1,len(X_train)+1)]).reshape(-1, 1)\n",
    "linear_reg_train_Y = np.array(house_data[column].values[:interval_count])\n",
    "linear_reg_test_X = np.array([len(X_train)+i for i in range(1,len(X_test)+1)]).reshape(-1, 1)\n",
    "linear_reg_test_Y = np.array((house_data[column].values[interval_count:interval_count+96]))\n",
    "\n",
    "linear_regression.fit(linear_reg_train_X, linear_reg_train_Y)\n",
    "linear_reg_predicted_Y = linear_regression.predict(linear_reg_test_X)\n",
    "print('Coefficients (a,b,c,..) : ', [(x,y) for x,y in zip(final_columns,linear_regression.coef_)])\n",
    "print(\"Mean squared error: %.5f\" % mean_squared_error(linear_reg_test_Y, linear_reg_predicted_Y))\n",
    "print('Variance : %.5f' % r2_score(linear_reg_test_Y, linear_reg_predicted_Y))\n",
    "print(\"Mean Absolute Error : %.5f\" % Mean_Absolute_Error(linear_reg_test_Y, linear_reg_predicted_Y))\n"
   ]
  },
  {
   "cell_type": "code",
   "execution_count": 192,
   "metadata": {},
   "outputs": [
    {
     "name": "stdout",
     "output_type": "stream",
     "text": [
      "Coefficients (a,b,c,..) :  [('time_of_day', 0.045154364674172998), ('day_of_week', -0.0039281860278911583), ('holiday', 0.03732291491929126), ('month_of_year', -0.070087304968685982), ('slot', -7.9679048375489386e-05)]\n",
      "Mean squared error: 1.25344\n",
      "Variance : -0.45430\n",
      "Mean Absolute Error : 0.76602\n"
     ]
    }
   ],
   "source": [
    "#Linear Regression with additional features\n",
    "day_value = 300\n",
    "interval_count = day_value * 96\n",
    "column = house_data.columns[0]\n",
    "linear_regression = LinearRegression()\n",
    "final_columns = house_data.columns[1:]\n",
    "\n",
    "linear_reg_train_X = house_data[final_columns][:interval_count]\n",
    "linear_reg_train_Y = np.array(house_data[column].values[:interval_count])\n",
    "linear_reg_test_X = house_data[final_columns][interval_count:interval_count+96]\n",
    "linear_reg_test_Y = np.array((house_data[column].values[interval_count:interval_count+96]))\n",
    "\n",
    "linear_regression.fit(linear_reg_train_X, linear_reg_train_Y)\n",
    "linear_reg_predicted_Y = linear_regression.predict(linear_reg_test_X)\n",
    "print('Coefficients (a,b,c,..) : ', [(x,y) for x,y in zip(final_columns,linear_regression.coef_)])\n",
    "print(\"Mean squared error: %.5f\" % mean_squared_error(linear_reg_test_Y, linear_reg_predicted_Y))\n",
    "print('Variance : %.5f' % r2_score(linear_reg_test_Y, linear_reg_predicted_Y))\n",
    "print(\"Mean Absolute Error : %.5f\" % Mean_Absolute_Error(linear_reg_test_Y, linear_reg_predicted_Y))"
   ]
  },
  {
   "cell_type": "code",
   "execution_count": null,
   "metadata": {},
   "outputs": [],
   "source": [
    "from fbprophet import Prophet\n",
    "\n",
    "df = pd.DataFrame({\"ds\":house_data[\"time_stamp\"].values})\n",
    "df['y'] = house_data['load_demand']\n",
    "df.reset_index(drop=False,inplace=True)\n",
    "\n",
    "fed_holiday = pd.DataFrame({\"ds\":house_data[\"time_stamp\"].values})\n",
    "fed_holiday['holiday'] = house_data['holiday']\n",
    "fed_holiday = fed_holiday[fed_holiday['holiday'] == 1]\n",
    "\n",
    "fed_holiday['holiday'] = fed_holiday.apply(lambda row: 'holiday', axis=1)\n",
    "\n",
    "m = Prophet(yearly_seasonality=True, holidays=fed_holiday)\n",
    "m.fit(df)\n",
    "\n",
    "future = m.make_future_dataframe(periods=24 * 60, freq='min')\n",
    "#print(future)\n",
    "\n",
    "forecast = m.predict(future)\n",
    "forecast[['ds', 'yhat', 'yhat_lower', 'yhat_upper']].tail()"
   ]
  },
  {
   "cell_type": "code",
   "execution_count": null,
   "metadata": {},
   "outputs": [],
   "source": [
    "fig1 = m.plot(forecast)"
   ]
  },
  {
   "cell_type": "code",
   "execution_count": null,
   "metadata": {},
   "outputs": [],
   "source": [
    "fig2 = m.plot_components(forecast)"
   ]
  }
 ],
 "metadata": {
  "kernelspec": {
   "display_name": "Python 3",
   "language": "python",
   "name": "python3"
  },
  "language_info": {
   "codemirror_mode": {
    "name": "ipython",
    "version": 3
   },
   "file_extension": ".py",
   "mimetype": "text/x-python",
   "name": "python",
   "nbconvert_exporter": "python",
   "pygments_lexer": "ipython3",
   "version": "3.6.5"
  }
 },
 "nbformat": 4,
 "nbformat_minor": 2
}
